{
 "cells": [
  {
   "cell_type": "code",
   "execution_count": null,
   "metadata": {},
   "outputs": [],
   "source": [
    "import jnius\n",
    "GF = jnius.autoclass(\"kcss.comms.math.GaloisField\")\n",
    "RS = jnius.autoclass(\"kcss.comms.error_codes.ReedSolomonCode\")\n"
   ]
  },
  {
   "cell_type": "code",
   "execution_count": null,
   "metadata": {},
   "outputs": [],
   "source": [
    "from pprint import pprint\n",
    "import numpy as np"
   ]
  },
  {
   "cell_type": "code",
   "execution_count": null,
   "metadata": {},
   "outputs": [],
   "source": [
    "rs = RS(3, 7, 0, 3, [1,0,1,1])\n",
    "info = [1,2,3,0,0,0,0]\n",
    "out = [0] * 4\n",
    "rs.gf.getRem(info, rs.generator, out )\n",
    "print(\"Remainder = \" + str(out))"
   ]
  },
  {
   "cell_type": "markdown",
   "metadata": {},
   "source": [
    "# introduce errors\n"
   ]
  },
  {
   "cell_type": "code",
   "execution_count": null,
   "metadata": {},
   "outputs": [],
   "source": [
    "rs = RS(3, 7, 0, 3, [1,0,1,1])\n",
    "codeword = [1,2,3,0,0,1,3]\n",
    "syndrome = rs.calculateSyndrome(codeword)\n",
    "print(\"Syndrome of codeword should be all zeros = \" + str(syndrome))\n",
    "\n",
    "# ------------------ Introduce error  ----------------------\n",
    "c2 = codeword[:]\n",
    "error_loc = np.random.randint(0,7)\n",
    "c2[error_loc] = 4 + np.random.randint(0,3)\n",
    "if True:\n",
    "    error_loc2 = np.random.randint(0,7)\n",
    "    c2[error_loc2] = 4 + np.random.randint(0,3)\n",
    "    error_loc = np.unique([error_loc, error_loc2])\n",
    "#c2[3] = 3\n",
    "#c2[3] = 3\n",
    "\n",
    "syndrome2 = rs.calculateSyndrome(c2)\n",
    "print(\"Syndrome 2 = \" + str(syndrome2))\n",
    "\n",
    "# error location\n",
    "err_loc1 = rs.errorLocPolyBerlekamp(syndrome2)\n",
    "print(\"Error location1 = \" + str(err_loc1))\n",
    "err_loc2 = rs.errorLocPolyGauss(syndrome2)\n",
    "print(\"Error Location 2 = \" + str(err_loc2))\n",
    "\n",
    "# -----------------  find roots  -------------------------\n",
    "roots = rs.findRoots(err_loc1[-1][:])\n",
    "roots = rs.findRoots(err_loc2)\n",
    "print(\"\\nRoots = \" + str(roots))\n",
    "print(\"Ground truth error location = \" + str(error_loc))\n",
    "est_locs = np.where(roots)[0]\n",
    "print(\"Identified error locations = \" + str(est_locs))\n",
    "\n",
    "# -----------------  error value  ----------------------\n",
    "print(\"Codeword = \" + str(codeword))\n",
    "print(\"Received = \" + str(c2))\n",
    "print(\"binAddTable = \" + str(rs.gf.binaryAddTable))\n",
    "print(\"binAddLUT = \" + str(rs.gf.binaryAddLUT))\n",
    "#vand = rs.errorValueVandermonde(syndrome2, est_locs)\n",
    "forney = rs.errorValueForney(err_loc2, est_locs.tolist(), syndrome2)\n",
    "print(\"Forney estimate = \" + str(forney))\n",
    "\n",
    "corrected = c2[:]\n",
    "for ind in range(len(est_locs)):\n",
    "    corrected[est_locs[ind]] = corrected[est_locs[ind]] ^ forney[ind]\n",
    "print(\"Corrected = \" + str(corrected))"
   ]
  },
  {
   "cell_type": "markdown",
   "metadata": {},
   "source": [
    "# Forney\n",
    "Error location polynomial \n",
    "Gamma(x) = 1 + lambda_1*x^1 + ... + lambda_v * x^v\n",
    "Gamma_prime(x) = 1*lambda_1*x^(i-1) + ... + v* lambda_v*x^(v-1)\n",
    "Omega(x) = S(x)* Gamma(x) (mod x^2t)\n",
    "ej = Omega(Xj^-1) / Gamma_prime(Xj^-1) # for FCR=1\n"
   ]
  },
  {
   "cell_type": "markdown",
   "metadata": {},
   "source": [
    "# Direction Solution\n",
    "S_i = sum(yj * zj^i) for j = 1 2,...,numErrors\n",
    "where \n",
    "* i = FCR\n",
    "* yj are the error values we want to solve\n",
    "\n",
    "Set numError set of non-linear equations\n",
    "S1 = y1 * (z1^FCR)    + y2 * (z2^FCR)\n",
    "S2 = y1 * (z1^(FCR+1) + y2 * (z2^(FCR+1))\n",
    "\n",
    "## Solve error values\n",
    "* Let\n",
    "  * A = [[z1^(FCR), z2^FCR];\n",
    "         [z1^(FCR+1), z2^(FCR+1)]\n",
    "  * Y = [y1; y2]\n",
    "  * S = [s1; s2] # partial syndrome\n",
    "\n",
    "### Using Cramer's rule\n",
    "Given, A*Y = S,\n",
    "y1 = det(Ai)/det(A) \n",
    "where Ai = [A with the i-th column replaced by S]\n",
    "\n",
    "\n",
    "\n"
   ]
  },
  {
   "cell_type": "code",
   "execution_count": null,
   "metadata": {},
   "outputs": [],
   "source": [
    "numErrors = len(est_locs)\n",
    "n = (rs.gf.getNumElements()-1)\n",
    "fcr = 1\n",
    "errValues = [0]*numErrors\n",
    "print(\"Number of errors = %d\"%numErrors)\n",
    "print(\"Syndrome = \" + str(syndrome2))\n",
    "# ------------------  error value calculation --------------\n",
    "if numErrors == 1:\n",
    "    errValues[0] = rs.gf.binaryAddTable[(syndrome2[0] - (est_locs[0] + 1) - 1) %n + 1]\n",
    "#for ind in range(numErrors):\n",
    "#    syndrome2[ind]\n",
    "\n",
    "# ----------------------  apply correction  -----------------\n",
    "c3 = c2[:] # copy the received word\n",
    "for ind in range(numErrors):\n",
    "    c3[est_locs[ind]] = c3[est_locs[ind]] ^ errValues[ind]\n",
    "\n",
    "# -------------------  display  ----------------------------\n",
    "print(\"Error Values = \" + str(errValues))\n",
    "print(\"Error Locations = \" + str(est_locs))\n",
    "print(\"Actual value = \" + str(codeword))\n",
    "print(\"Received Values = \" + str(c2))\n",
    "print(\"Corrected value = \" + str(c3))"
   ]
  },
  {
   "cell_type": "code",
   "execution_count": null,
   "metadata": {},
   "outputs": [],
   "source": [
    "print(\"Syndrome = \" + str(syndrome2))\n",
    "print(rs.gf.binaryAddTable)\n",
    "print(rs.gf.binaryAddLUT)\n",
    "\n",
    "est_loc = rs.getErrorLocations(roots)\n",
    "print(\"Estimate Location = \" + str(est_loc))\n",
    "\n",
    "err_val = rs.errorValue(syndrome2, est_loc)\n",
    "print(\"Error Value = \" + str(err_val))\n",
    "\n",
    "c3 = c2[:]\n",
    "rs.correctError(c3, est_loc, err_val)\n",
    "print(\"Actual = \" + str(codeword))\n",
    "print(\"Received = \" + str(c2))\n",
    "print(\"Corrected = \" + str(c3))"
   ]
  },
  {
   "cell_type": "markdown",
   "metadata": {},
   "source": [
    "# Testing GF\n"
   ]
  },
  {
   "cell_type": "code",
   "execution_count": null,
   "metadata": {},
   "outputs": [],
   "source": [
    "add = rs.gf.addIndex\n",
    "mult = rs.gf.multiplyIndex\n",
    "div = rs.gf.divideIndex\n",
    "det = rs.gf.determinant\n",
    "\n",
    "print(rs.gf.binaryAddTable)\n",
    "print(mult(4,3))\n",
    "print(\"Determinant = \"+ str(det([[1, 4],[2, 1]])))\n",
    "print(div(7,3))\n",
    "\n",
    "\n"
   ]
  },
  {
   "cell_type": "code",
   "execution_count": null,
   "metadata": {},
   "outputs": [],
   "source": [
    "rs = RS(9, 15, 0, 4, [1,1,0,0,1]  )\n",
    "print(\"Generator = \" + str(rs.generator))\n",
    "print(\"binaryAddTable = \" + str(rs.gf.binaryAddTable))\n",
    "print(\"binaryAddLUT = \" + str(rs.gf.binaryAddLUT))"
   ]
  }
 ],
 "metadata": {
  "kernelspec": {
   "display_name": "Python 3",
   "language": "python",
   "name": "python3"
  },
  "language_info": {
   "codemirror_mode": {
    "name": "ipython",
    "version": 3
   },
   "file_extension": ".py",
   "mimetype": "text/x-python",
   "name": "python",
   "nbconvert_exporter": "python",
   "pygments_lexer": "ipython3",
   "version": "3.7.3"
  }
 },
 "nbformat": 4,
 "nbformat_minor": 2
}
