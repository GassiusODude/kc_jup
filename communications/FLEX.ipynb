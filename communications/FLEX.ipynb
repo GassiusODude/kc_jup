{
 "cells": [
  {
   "cell_type": "markdown",
   "metadata": {},
   "source": [
    "# FLEX\n",
    "\n",
    "| Modulation | Baud | Mod Index | Sym Freq | \n",
    "| ---------- | ---- | --------- | -------- |\n",
    "| 2FSK | 1600 | 5.625 | |\n",
    "| 2FSK | 3200 | 2.8125 | |\n",
    "| 4FSK | 3200 | 2.8125 | |\n",
    "| 4FSK | 6400 | 1.40625 | (-4.8, -1.6, 1.6, 4.8) |\n",
    "\n",
    "## Frequencies\n",
    "* 152.6 / 169 MHz\n",
    "* 309.505 / 310.905 MHz\n",
    "* 929.362 / 929.387 / 929.538 MHz / 929.612 / 929.662 / 929.937 MHz\n",
    "* 931.063 / 931.863 / 931.938 MHz\n",
    "\n",
    "## References\n",
    "https://www.sigidwiki.com/wiki/FLEX\n"
   ]
  },
  {
   "cell_type": "markdown",
   "metadata": {},
   "source": [
    "# import libraries"
   ]
  },
  {
   "cell_type": "code",
   "execution_count": null,
   "metadata": {},
   "outputs": [],
   "source": [
    "import numpy as np\n",
    "import os\n",
    "import pylab\n",
    "from scipy import signal as sigmod"
   ]
  },
  {
   "cell_type": "markdown",
   "metadata": {},
   "source": [
    "# load signal\n"
   ]
  },
  {
   "cell_type": "code",
   "execution_count": null,
   "metadata": {},
   "outputs": [],
   "source": [
    "file0 = os.environ[\"HOME\"] + \"/data/recordings/20200226_22-07-20__fc_929.5130_MHz_fs_600.0000_ksps.32cf\"\n",
    "signal = np.fromfile(file0, dtype=np.complex64)\n",
    "fs = 600e3\n",
    "\n",
    "pylab.specgram(signal, Fs=fs)\n",
    "pylab.show()\n",
    "\n",
    "fc_offset = 100.3e3\n"
   ]
  },
  {
   "cell_type": "code",
   "execution_count": null,
   "metadata": {},
   "outputs": [],
   "source": [
    "# shift signal\n",
    "\n",
    "bb_sig = signal * np.exp(2j*np.pi*-fc_offset*np.arange(len(signal))/fs)\n",
    "decim = 20\n",
    "\n",
    "\n",
    "bb_sig = sigmod.resample_poly(bb_sig, 1, decim)\n",
    "bb_fs = fs / decim\n",
    "\n",
    "#segment first burst\n",
    "bb_sig = bb_sig[int(bb_fs*1.25): int(bb_fs*3)]\n",
    "\n",
    "pylab.specgram(bb_sig, Fs=bb_fs, NFFT=16, noverlap=4)\n",
    "pylab.show()\n",
    "\n"
   ]
  },
  {
   "cell_type": "code",
   "execution_count": null,
   "metadata": {},
   "outputs": [],
   "source": [
    "from kcss.receivers.burst_receiver import BurstReceiver as BR\n",
    "baud = 1600.\n",
    "spec = {\"baud\":baud, \"symbol_map\":[1,0], \"mod_index\":9600/baud}\n",
    "bits = BR.fsk_receiver(bb_sig, bb_fs, spec)\n",
    "print(bits)\n",
    "#pylab.plot(bits[3240:3300], '.-')\n",
    "pylab.figure(figsize=[16,8])\n",
    "pylab.plot(bits,'s-')\n",
    "pylab.show()"
   ]
  },
  {
   "cell_type": "code",
   "execution_count": null,
   "metadata": {},
   "outputs": [],
   "source": [
    "# POCSAG FCS\n",
    "FCS = [0,1,1,1,1,1,0,0,1,1,0,1,0,0,1,0,0,0,0,1,0,1,0,1,1,1,0,1,1,0,0,0]\n",
    "\n",
    "bits2 = 2*np.array(bits).astype(np.int8) - 1\n",
    "fcs2 = 2* np.array(FCS) - 1\n",
    "cor = np.convolve(bits2, np.flipud(fcs2))\n",
    "pylab.subplot(311), pylab.plot(bits2)\n",
    "pylab.subplot(312), pylab.plot(fcs2)\n",
    "pylab.subplot(313), pylab.plot(cor)\n",
    "pylab.show()\n",
    "print(len(bits2))\n",
    "print(len(fcs2))\n",
    "print(max(abs(cor)))\n"
   ]
  },
  {
   "cell_type": "code",
   "execution_count": null,
   "metadata": {},
   "outputs": [],
   "source": []
  }
 ],
 "metadata": {
  "kernelspec": {
   "display_name": "Python 3",
   "language": "python",
   "name": "python3"
  },
  "language_info": {
   "codemirror_mode": {
    "name": "ipython",
    "version": 3
   },
   "file_extension": ".py",
   "mimetype": "text/x-python",
   "name": "python",
   "nbconvert_exporter": "python",
   "pygments_lexer": "ipython3",
   "version": "3.7.6"
  }
 },
 "nbformat": 4,
 "nbformat_minor": 4
}
