{
 "cells": [
  {
   "cell_type": "code",
   "execution_count": null,
   "metadata": {},
   "outputs": [],
   "source": [
    "import numpy as np\n",
    "import pylab\n"
   ]
  },
  {
   "cell_type": "code",
   "execution_count": null,
   "metadata": {},
   "outputs": [],
   "source": [
    "file0 = \"/home/keithchow/data/recordings/sorted/\" + \\\n",
    "    \"FM_RBDS_20200226_21-59-50__fc_106.9000_MHz_fs_600.0000_ksps.32cf\"\n",
    "signal = np.fromfile(file0, dtype=np.complex64)\n",
    "\n",
    "pylab.specgram(signal, Fs=600e3)\n",
    "pylab.show()"
   ]
  },
  {
   "cell_type": "markdown",
   "metadata": {},
   "source": [
    "# RDS\n",
    "1187.5 bits/s\n",
    "BPSK\n",
    "57 kHz subcarrier"
   ]
  },
  {
   "cell_type": "markdown",
   "metadata": {},
   "source": [
    "# HD Radio (NRSC-5)\n",
    "OFDM signal\n",
    "\n",
    "+/- 70 kHz past the 200 kHz analog signal +/- 30 kHz guard band\n",
    "\n",
    "Subcarrier Spacing = 1488375 / 4096\n",
    "Cyclic Prefix = 7 / 128\n",
    "OFDM symbol duration = (135 / 128) * (4096 / 1488375)\n"
   ]
  },
  {
   "cell_type": "code",
   "execution_count": null,
   "metadata": {},
   "outputs": [],
   "source": [
    "\n"
   ]
  }
 ],
 "metadata": {
  "kernelspec": {
   "display_name": "Python 3",
   "language": "python",
   "name": "python3"
  },
  "language_info": {
   "codemirror_mode": {
    "name": "ipython",
    "version": 3
   },
   "file_extension": ".py",
   "mimetype": "text/x-python",
   "name": "python",
   "nbconvert_exporter": "python",
   "pygments_lexer": "ipython3",
   "version": "3.7.6"
  }
 },
 "nbformat": 4,
 "nbformat_minor": 4
}
