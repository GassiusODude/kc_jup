{
 "cells": [
  {
   "cell_type": "markdown",
   "metadata": {},
   "source": [
    "# Import Libraries"
   ]
  },
  {
   "cell_type": "code",
   "execution_count": null,
   "metadata": {},
   "outputs": [],
   "source": [
    "import numpy as np\n",
    "import os\n",
    "import pylab\n",
    "from pprint import pprint"
   ]
  },
  {
   "cell_type": "markdown",
   "metadata": {},
   "source": [
    "# Load Signal"
   ]
  },
  {
   "cell_type": "code",
   "execution_count": null,
   "metadata": {},
   "outputs": [],
   "source": [
    "# load signal\n",
    "import os\n",
    "from py_audiolib.io_tools import wavefile\n",
    "dir0 = os.environ[\"DATA_FILES\"]\n",
    "file0 = dir0 + \"/communications/AIS IQ.wav\"\n",
    "signal, info = wavefile.read_from_file(file0, float, False)\n",
    "signal = signal[:,0] + 1j*signal[:,1]\n",
    "pylab.specgram(signal, Fs=info[\"sample_rate\"])\n",
    "pylab.show()\n",
    "\n",
    "# apply burst detection\n",
    "from kcss.detectors.detector_energy import DetectorEnergy\n",
    "det_energy = DetectorEnergy(100)\n",
    "[bursts, sample_loc] = det_energy.analyze_signal(signal, True)\n",
    "pprint(sample_loc)"
   ]
  },
  {
   "cell_type": "markdown",
   "metadata": {},
   "source": [
    "# AIS\n",
    "Automatic Identification System (AIS)\n",
    "\n",
    "# Modulation\n",
    "| Characteristic | Value |\n",
    "| :-: | :-: |\n",
    "| Frequency | 161.975 MHz and 162.025 MHz |\n",
    "| Modulation | GMSK |\n",
    "| Baud | 9600 symbols/s |\n",
    "\n",
    "# Data Protocol\n",
    "\n",
    "* The messages are HDLC encoded (with bit stuffing)\n",
    "* Each message starts with a preamble of 24 bits of (0101...01)\n",
    "* The bits are further NRZI encoded.\n",
    "\n",
    "| Preamble | SB | Data | CRC | SB |\n",
    "| :-: | :-:| :-: | :-: | :-: |\n",
    "| 010101010101010101010101 | 01111110 | Bit stuffed data payload | 16 bit CRC-16-CCITT | 01111110 |\n",
    "\n",
    "\n",
    "\n"
   ]
  },
  {
   "cell_type": "code",
   "execution_count": null,
   "metadata": {},
   "outputs": [],
   "source": [
    "from kcss.receivers.burst_receiver import BurstReceiver\n",
    "from kcss.line_codes import line_code\n",
    "from kcss.line_codes.hdlc import HDLC\n",
    "from kcss.utils.binary import Binary\n",
    "from kcss.utils.converter import bits_to_str\n",
    "\n",
    "HDLC_FLAG = [0,1,1,1,1,1,1,0]\n",
    "START_FLAG = np.array([0,1]*8 + HDLC_FLAG)\n",
    "\n",
    "\n",
    "receiver = BurstReceiver()\n",
    "\n",
    "fs = info[\"sample_rate\"]\n",
    "spec = {\"baud\": 9600.0, \"symbol_map\":[1, 0], \"mod_index\":0.5}\n",
    "msgs = [None] * len(bursts)\n",
    "burst_count = 0\n",
    "for burst in bursts:\n",
    "    print(\"=\"*50 + \"\\n\")\n",
    "    print(\"Burst = %d\"%burst_count)\n",
    "    burst_count += 1\n",
    "\n",
    "    # demodulate GMSK\n",
    "    c_demod_bits = receiver.fsk_receiver(burst, fs, spec)\n",
    "    \n",
    "    # NRZI decode\n",
    "    c_bits = 1 - line_code.nrzi_decode(c_demod_bits)\n",
    "    \n",
    "    # ---------------  synchronize  ------------------\n",
    "    # (search preamble + start flag, and end flag)\n",
    "    start_ind = Binary.identify_location(\n",
    "        c_bits, START_FLAG, threshold=14)\n",
    "    \n",
    "    #extract last occurence of HDLC flag\n",
    "    end_ind = Binary.identify_location(\n",
    "        c_bits, HDLC_FLAG, threshold=6, first=False)\n",
    "    if start_ind and end_ind:\n",
    "        synced_bits = c_bits[start_ind + len(START_FLAG):end_ind]\n",
    "    else:\n",
    "        print(\"start and/or end flag missing\\n\\n\")\n",
    "        continue\n",
    "\n",
    "    # HDLC deframer\n",
    "    hdlc_frame = HDLC.bit_destuff(synced_bits)\n",
    "    \n",
    "    # ----------------  print info  -------------------\n",
    "    \n",
    "    print(\"Message of length %d bits\"%len(hdlc_frame))\n",
    "    print(bits_to_str(hdlc_frame))\n",
    "    msgs[burst_count-1] = hdlc_frame"
   ]
  },
  {
   "cell_type": "markdown",
   "metadata": {},
   "source": [
    "# Messages"
   ]
  },
  {
   "cell_type": "code",
   "execution_count": null,
   "metadata": {},
   "outputs": [],
   "source": [
    "from kcss.error_codes import cyclic_redundancy_check as CRCMOD\n",
    "CCITT = CRCMOD.STANDARDS[\"CRC-16-CCITT\"]\n",
    "\n",
    "# load AIS message protocols\n",
    "from kcss.protocol.data_packet import DataPacket as DP\n",
    "AIS = DP.load_json(\"/home/keithchow/ais_message.json\")\n",
    "\n",
    "print(CCITT)\n",
    "from kcss.info import numeric_info as NI\n",
    "for msg in msgs:\n",
    "    # -------------  skip Nones  --------------------------\n",
    "    if msg is None:\n",
    "        continue\n",
    "        \n",
    "    #\n",
    "    print(\"=\"*70 + \"\\nMessage length = %d\"%len(msg))\n",
    "\n",
    "    # FIXME: Why don't CRC match?\n",
    "    est_crc = CRCMOD.crc(msg[:-16].astype(np.int8), **CCITT)\n",
    "    print(\"CRC parity = %s\"%str(msg[-16:]))\n",
    "    print(\"CRC estimate = %s\"%str(NI.encode_bcd(est_crc, 16)))\n",
    "\n",
    "    # print messages\n",
    "    print(\"\\n\" + AIS[0].to_str(msg[:AIS[0].nbits]))"
   ]
  }
 ],
 "metadata": {
  "kernelspec": {
   "display_name": "Python 3",
   "language": "python",
   "name": "python3"
  },
  "language_info": {
   "codemirror_mode": {
    "name": "ipython",
    "version": 3
   },
   "file_extension": ".py",
   "mimetype": "text/x-python",
   "name": "python",
   "nbconvert_exporter": "python",
   "pygments_lexer": "ipython3",
   "version": "3.7.3"
  }
 },
 "nbformat": 4,
 "nbformat_minor": 2
}
