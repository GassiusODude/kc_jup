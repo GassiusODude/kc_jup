{
 "cells": [
  {
   "cell_type": "markdown",
   "metadata": {},
   "source": [
    "# Import Libraries"
   ]
  },
  {
   "cell_type": "code",
   "execution_count": 1,
   "metadata": {},
   "outputs": [],
   "source": [
    "import numpy as np\n",
    "import pylab"
   ]
  },
  {
   "cell_type": "markdown",
   "metadata": {},
   "source": [
    "# Load Signal"
   ]
  },
  {
   "cell_type": "code",
   "execution_count": 2,
   "metadata": {},
   "outputs": [],
   "source": [
    "# load signal\n",
    "\n",
    "\n",
    "# apply burst detection\n",
    "bursts = []"
   ]
  },
  {
   "cell_type": "markdown",
   "metadata": {},
   "source": [
    "# AIS\n",
    "Automatic Identification System (AIS)\n",
    "\n",
    "# Modulation\n",
    "| Characteristic | Value |\n",
    "| :-: | :-: |\n",
    "| Frequency | 161.975 MHz and 162.025 MHz |\n",
    "| Modulation | GMSK |\n",
    "| Baud | 9600 symbols/s |\n",
    "\n",
    "# Data Protocol\n",
    "\n",
    "* The messages are HDLC encoded (with bit stuffing)\n",
    "* Each message starts with a preamble of 24 bits of (0101...01)\n",
    "* The bits are further NRZI encoded.\n",
    "\n",
    "| Preamble | SB | Data | CRC | SB |\n",
    "| :-: | :-:| :-: | :-: | :-: |\n",
    "| 010101010101010101010101 | 01111110 | Bit stuffed data payload | 16 bit CRC-16-CCITT | 01111110 |\n",
    "\n",
    "\n",
    "\n"
   ]
  },
  {
   "cell_type": "code",
   "execution_count": 3,
   "metadata": {},
   "outputs": [],
   "source": [
    "for burst in bursts:\n",
    "    # demodulate GMSK\n",
    "    # NRZI decode\n",
    "    # synchronize\n",
    "    # HDLC deframer\n",
    "    # verify CRC\n",
    "    pass"
   ]
  },
  {
   "cell_type": "markdown",
   "metadata": {},
   "source": [
    "# Messages"
   ]
  },
  {
   "cell_type": "code",
   "execution_count": null,
   "metadata": {},
   "outputs": [],
   "source": []
  }
 ],
 "metadata": {
  "kernelspec": {
   "display_name": "Python 3",
   "language": "python",
   "name": "python3"
  },
  "language_info": {
   "codemirror_mode": {
    "name": "ipython",
    "version": 3
   },
   "file_extension": ".py",
   "mimetype": "text/x-python",
   "name": "python",
   "nbconvert_exporter": "python",
   "pygments_lexer": "ipython3",
   "version": "3.7.3"
  }
 },
 "nbformat": 4,
 "nbformat_minor": 2
}
