{
 "cells": [
  {
   "cell_type": "code",
   "execution_count": 1,
   "metadata": {},
   "outputs": [],
   "source": [
    "import jnius\n",
    "FileReader = jnius.autoclass(\"jdsp.io.FileReader\")\n",
    "Plot = jnius.autoclass(\"jdsp.swing.Plot\")\n",
    "JFrame = jnius.autoclass(\"javax.swing.JFrame\")\n",
    "File = jnius.autoclass(\"java.io.File\")"
   ]
  },
  {
   "cell_type": "code",
   "execution_count": 7,
   "metadata": {},
   "outputs": [],
   "source": [
    "import numpy as np\n",
    "in0 = np.arange(1000) + 2j * np.arange(1000)\n",
    "\n",
    "ind = 4\n",
    "if ind == 0:\n",
    "    # big endian\n",
    "    np.arange(1000).astype(\">i2\").tofile(\"/tmp/test.16t\")\n",
    "    f = FileReader(\"/tmp/test.16t\", 0, True)\n",
    "elif ind == 1:\n",
    "    # little endian complex\n",
    "    np.arange(1000).astype(\"<i2\").tofile(\"/tmp/test.16t\")\n",
    "    f = FileReader(\"/tmp/test.16t\", 1, False)\n",
    "elif ind == 2:\n",
    "    # big endian\n",
    "    np.arange(1000).astype(\">f4\").tofile(\"/tmp/test.16t\")\n",
    "    f = FileReader(\"/tmp/test.16t\", 2, True)\n",
    "elif ind == 3:\n",
    "    # little endian\n",
    "    np.arange(1000).astype(\"<f4\").tofile(\"/tmp/test.16t\")\n",
    "    f = FileReader(\"/tmp/test.16t\", 2, False)\n",
    "else:\n",
    "    np.arange(1000).astype(\"<f4\").tofile(\"/tmp/test.16t\")\n",
    "    f = FileReader(\"/tmp/test.16t\", 3, False)"
   ]
  },
  {
   "cell_type": "code",
   "execution_count": 8,
   "metadata": {},
   "outputs": [],
   "source": [
    "# load 100 samples from the start of the file\n",
    "out = f.loadSignal(0, 100)\n",
    "\n",
    "# save a csv of the loaded signal\n",
    "file0 = File(\"/tmp/output.csv\")\n",
    "out.saveCSV(file0, True, \",\")"
   ]
  }
 ],
 "metadata": {
  "kernelspec": {
   "display_name": "Python 3",
   "language": "python",
   "name": "python3"
  },
  "language_info": {
   "codemirror_mode": {
    "name": "ipython",
    "version": 3
   },
   "file_extension": ".py",
   "mimetype": "text/x-python",
   "name": "python",
   "nbconvert_exporter": "python",
   "pygments_lexer": "ipython3",
   "version": "3.7.3"
  }
 },
 "nbformat": 4,
 "nbformat_minor": 2
}
