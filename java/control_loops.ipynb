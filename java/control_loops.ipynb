{
 "cells": [
  {
   "cell_type": "code",
   "execution_count": null,
   "metadata": {},
   "outputs": [],
   "source": [
    "import jnius\n",
    "import numpy as np\n",
    "import pylab\n"
   ]
  },
  {
   "cell_type": "markdown",
   "metadata": {},
   "source": [
    "# AGC"
   ]
  },
  {
   "cell_type": "code",
   "execution_count": null,
   "metadata": {},
   "outputs": [],
   "source": [
    "# setup for AGC\n",
    "AGC = jnius.autoclass(\"kcss.signal.control.ControlAGC\")\n",
    "signal = 0.3 * np.exp(2j*np.pi * np.arange(1000)/100.0)\n",
    "signal += 1e-3 * np.random.randn(len(signal)) \n",
    "# prepare interleaved double for use with AGC\n",
    "sig_int = signal.astype(np.complex128).view(np.float64).tolist()\n",
    "\n",
    "out_int = np.zeros(len(signal) * 2, dtype=np.float64).tolist()"
   ]
  },
  {
   "cell_type": "code",
   "execution_count": null,
   "metadata": {},
   "outputs": [],
   "source": [
    "agc = AGC(1.0)\n",
    "agc.setLearnRate(1e-2)\n",
    "cons_prod = agc.apply(sig_int, out_int)\n",
    "output = out_int[::2]  + 1j*np.array(out_int[1::2])\n",
    "print(cons_prod)\n",
    "ax = [0,1000, 0, 1.1]\n",
    "pylab.subplot(211), pylab.plot(np.abs(signal)), pylab.axis(ax)\n",
    "#pylab.subplot(212), pylab.plot(output.real), pylab.plot(output.imag)\n",
    "pylab.subplot(212), pylab.plot(np.abs(output)), pylab.axis(ax)\n",
    "pylab.show()"
   ]
  },
  {
   "cell_type": "code",
   "execution_count": null,
   "metadata": {},
   "outputs": [],
   "source": []
  }
 ],
 "metadata": {
  "kernelspec": {
   "display_name": "Python 3",
   "language": "python",
   "name": "python3"
  },
  "language_info": {
   "codemirror_mode": {
    "name": "ipython",
    "version": 3
   },
   "file_extension": ".py",
   "mimetype": "text/x-python",
   "name": "python",
   "nbconvert_exporter": "python",
   "pygments_lexer": "ipython3",
   "version": "3.7.3"
  }
 },
 "nbformat": 4,
 "nbformat_minor": 2
}
