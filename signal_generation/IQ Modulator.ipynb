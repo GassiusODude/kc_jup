{
 "cells": [
  {
   "cell_type": "markdown",
   "metadata": {},
   "source": [
    "# Import Library"
   ]
  },
  {
   "cell_type": "code",
   "execution_count": null,
   "metadata": {},
   "outputs": [],
   "source": [
    "import numpy as np\n",
    "import pylab\n",
    "import time\n",
    "from kcss.filter.filter_design import FilterDesign\n",
    "from kcss.filter.filter import Filter\n"
   ]
  },
  {
   "cell_type": "markdown",
   "metadata": {},
   "source": [
    "# Specify Signal Parameters"
   ]
  },
  {
   "cell_type": "code",
   "execution_count": null,
   "metadata": {},
   "outputs": [],
   "source": [
    "from kcss.modulators import constellation\n",
    "# constellation and symbol map\n",
    "const = np.array(constellation.CONSTELLATION[\"QPSK\"])\n",
    "symbol_map = np.arange(len(const))\n",
    "\n",
    "# modulation parameters\n",
    "sps = 5\n",
    "rolloff = 0.5\n",
    "n_taps = 101\n",
    "\n",
    "# information to modulate\n",
    "n_symbols = 50000\n",
    "msg = np.random.randint(0, len(const), n_symbols)"
   ]
  },
  {
   "cell_type": "markdown",
   "metadata": {},
   "source": [
    "# Python Version"
   ]
  },
  {
   "cell_type": "code",
   "execution_count": null,
   "metadata": {},
   "outputs": [],
   "source": [
    "from kcss.modulators.pulse_shape_modulator import PulseShapeModulator\n",
    "\n",
    "# design srrc filter\n",
    "rrc = FilterDesign.design_rrc(sps, rolloff, n_taps)\n",
    "pulse0 = Filter(rrc)\n",
    "\n",
    "# create modulator\n",
    "modulator = PulseShapeModulator(sps, const, symbol_map, pulse0)\n",
    "\n",
    "# modulate signal\n",
    "tic = time.time()\n",
    "p_signal = modulator.modulate_symbols(msg)\n",
    "print(\"Elapsed time %3.4f seconds\"%(time.time()-tic))\n"
   ]
  },
  {
   "cell_type": "markdown",
   "metadata": {},
   "source": [
    "# Java Version\n",
    "TODO\n",
    "* Calculate symbols by mapping to supplied constellation\n",
    "* Apply filter on the upsampled symbols"
   ]
  },
  {
   "cell_type": "code",
   "execution_count": null,
   "metadata": {},
   "outputs": [],
   "source": [
    "import jnius\n",
    "JFilterObject = jnius.autoclass(\"jdsp.filters.FilterObject\")\n",
    "JFilterDesign = jnius.autoclass(\"jdsp.filters.FilterDesign\")\n",
    "\n",
    "# ----------------- design SRRC filter  ---------------------\n",
    "pulse1 = JFilterDesign.designSRRC(n_taps, sps, 1.0, rolloff)\n",
    "\n",
    "# create filter object and set numerator taps\n",
    "pulse_fo = JFilterObject()\n",
    "pulse_fo.setNumerator(pulse1)\n",
    "\n",
    "# ------------  prepare input ------------------------\n",
    "in_sig = np.zeros(len(msg) * int(sps), dtype=np.complex64)\n",
    "in_sig[::int(sps)] = const[msg]\n",
    "in_sig = in_sig.astype(np.complex64).view(np.float32)\n",
    "in_sig = in_sig.tolist()\n",
    "\n",
    "# -----------------  modulate  -----------------------\n",
    "tic = time.time()\n",
    "j_signal = pulse_fo.filterComplexInterleaved(in_sig)\n",
    "print(\"Elapsed time %3.4f seconds\"%(time.time()-tic))\n",
    "\n",
    "# ---------------- convert to complex ------------------\n",
    "j_signal = np.array(j_signal)\n",
    "j_signal = j_signal[::2] + 1j* j_signal[1::2]\n",
    "\n"
   ]
  },
  {
   "cell_type": "markdown",
   "metadata": {},
   "source": [
    "# Compare outputs"
   ]
  },
  {
   "cell_type": "code",
   "execution_count": null,
   "metadata": {},
   "outputs": [],
   "source": [
    "# ----------------  plot generated signal  -----------------------\n",
    "pylab.figure(figsize=[12,10])\n",
    "pylab.subplot(231)\n",
    "pylab.psd(p_signal)\n",
    "pylab.subplot(232)\n",
    "pylab.specgram(p_signal, Fs=3000.)\n",
    "pylab.subplot(233)\n",
    "pylab.plot(p_signal[:500].real)\n",
    "pylab.plot(p_signal[:500].imag, 'r')\n",
    "pylab.subplot(234)\n",
    "pylab.psd(j_signal)\n",
    "pylab.subplot(235)\n",
    "pylab.specgram(j_signal, Fs=3000.)\n",
    "pylab.subplot(236)\n",
    "pylab.plot(j_signal[:500].real)\n",
    "pylab.plot(j_signal[:500].imag, 'r')\n",
    "\n",
    "pylab.show()\n"
   ]
  }
 ],
 "metadata": {
  "kernelspec": {
   "display_name": "Python 3",
   "language": "python",
   "name": "python3"
  },
  "language_info": {
   "codemirror_mode": {
    "name": "ipython",
    "version": 3
   },
   "file_extension": ".py",
   "mimetype": "text/x-python",
   "name": "python",
   "nbconvert_exporter": "python",
   "pygments_lexer": "ipython3",
   "version": "3.7.3"
  }
 },
 "nbformat": 4,
 "nbformat_minor": 2
}
